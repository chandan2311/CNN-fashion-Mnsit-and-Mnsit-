{
  "nbformat": 4,
  "nbformat_minor": 0,
  "metadata": {
    "colab": {
      "provenance": [],
      "authorship_tag": "ABX9TyMiCqq3jV/WAzzDQ3kNNSm6",
      "include_colab_link": true
    },
    "kernelspec": {
      "name": "python3",
      "display_name": "Python 3"
    },
    "language_info": {
      "name": "python"
    }
  },
  "cells": [
    {
      "cell_type": "markdown",
      "metadata": {
        "id": "view-in-github",
        "colab_type": "text"
      },
      "source": [
        "<a href=\"https://colab.research.google.com/github/chandan2311/Machine-learning/blob/main/callback_fmnsit.ipynb\" target=\"_parent\"><img src=\"https://colab.research.google.com/assets/colab-badge.svg\" alt=\"Open In Colab\"/></a>"
      ]
    },
    {
      "cell_type": "code",
      "execution_count": 1,
      "metadata": {
        "colab": {
          "base_uri": "https://localhost:8080/"
        },
        "id": "OziDrwgyTPWQ",
        "outputId": "7caca18b-5649-451f-ca03-b809bde034be"
      },
      "outputs": [
        {
          "output_type": "stream",
          "name": "stdout",
          "text": [
            "<module 'tensorflow._api.v2.version' from '/usr/local/lib/python3.10/dist-packages/tensorflow/_api/v2/version/__init__.py'>\n"
          ]
        }
      ],
      "source": [
        "import tensorflow as tf\n",
        "from tensorflow import keras\n",
        "print(tf.version)"
      ]
    },
    {
      "cell_type": "code",
      "source": [
        "class myCallback(tf.keras.callbacks.Callback):\n",
        "  def on_epoch_end(self,epoch,logs={}):\n",
        "    if(logs.get('loss')<0.4):\n",
        "      print(\"\\n loss is lower thn 0.4 so cancelling training!\")\n",
        "      self.model.stop_training=True\n",
        "callbacks=myCallback()"
      ],
      "metadata": {
        "id": "7ncZaOZQsKA3"
      },
      "execution_count": 3,
      "outputs": []
    },
    {
      "cell_type": "code",
      "source": [
        "fmnist=keras.datasets.fashion_mnist"
      ],
      "metadata": {
        "id": "r-YV0u0YTZkt"
      },
      "execution_count": 4,
      "outputs": []
    },
    {
      "cell_type": "code",
      "source": [
        "(training_images,training_label),(testing_images,testing_label)=fmnist.load_data()"
      ],
      "metadata": {
        "id": "76Q7yECfTkuM",
        "colab": {
          "base_uri": "https://localhost:8080/"
        },
        "outputId": "dbe14de5-d814-4b95-ab21-e7f41a4a3756"
      },
      "execution_count": 5,
      "outputs": [
        {
          "output_type": "stream",
          "name": "stdout",
          "text": [
            "Downloading data from https://storage.googleapis.com/tensorflow/tf-keras-datasets/train-labels-idx1-ubyte.gz\n",
            "29515/29515 [==============================] - 0s 0us/step\n",
            "Downloading data from https://storage.googleapis.com/tensorflow/tf-keras-datasets/train-images-idx3-ubyte.gz\n",
            "26421880/26421880 [==============================] - 0s 0us/step\n",
            "Downloading data from https://storage.googleapis.com/tensorflow/tf-keras-datasets/t10k-labels-idx1-ubyte.gz\n",
            "5148/5148 [==============================] - 0s 0us/step\n",
            "Downloading data from https://storage.googleapis.com/tensorflow/tf-keras-datasets/t10k-images-idx3-ubyte.gz\n",
            "4422102/4422102 [==============================] - 0s 0us/step\n"
          ]
        }
      ]
    },
    {
      "cell_type": "code",
      "source": [
        "print(len(training_label))"
      ],
      "metadata": {
        "colab": {
          "base_uri": "https://localhost:8080/"
        },
        "id": "_7TJeFSYYWfH",
        "outputId": "e97e2676-ac3c-490e-ddf3-37e458a4aabc"
      },
      "execution_count": 6,
      "outputs": [
        {
          "output_type": "stream",
          "name": "stdout",
          "text": [
            "60000\n"
          ]
        }
      ]
    },
    {
      "cell_type": "code",
      "source": [
        "print(len(training_images))"
      ],
      "metadata": {
        "colab": {
          "base_uri": "https://localhost:8080/"
        },
        "id": "P9ikJzRAYOgZ",
        "outputId": "8e919950-e1b4-4e2e-c13f-b01d8318fb1c"
      },
      "execution_count": 7,
      "outputs": [
        {
          "output_type": "stream",
          "name": "stdout",
          "text": [
            "60000\n"
          ]
        }
      ]
    },
    {
      "cell_type": "code",
      "source": [
        "import numpy as np\n",
        "import matplotlib.pyplot as plt\n",
        "\n",
        "index=11\n",
        "np.set_printoptions(linewidth=320)\n",
        "\n",
        "print(f\"Label:{training_label[index]}\")\n",
        "print(f\"images:{training_images[index]}\")"
      ],
      "metadata": {
        "colab": {
          "base_uri": "https://localhost:8080/"
        },
        "id": "E2bGHs87TzCO",
        "outputId": "aec6d009-af6f-48b2-ef4e-d03f189e14ff"
      },
      "execution_count": 8,
      "outputs": [
        {
          "output_type": "stream",
          "name": "stdout",
          "text": [
            "Label:9\n",
            "images:[[  0   0   0   0   0   0   0   0   0   0   0   0   0   0  39 111  93  85  27   0   0   0   0   0   1   0   0   0]\n",
            " [  0   0   0   0   0   0   0   0   0   0   0   1   0   0 190 244 248 255 255 155 202 212 150   9   0   3   0   0]\n",
            " [  0   0   0   0   0   0   0   0   0   0   0   2   0   0 213 227 233 227 243 246 255 250 255 146   0   9   0   0]\n",
            " [  0   0   0   0   0   0   0   0   0   0   0   4   0   6 244 233 236 244 232 214 248 242 251  33   0   7   0   0]\n",
            " [  0   0   0   0   0   0   0   0   0   0   1   6   0  72 255 231 239 244 237 226 255 252 207  44  24   0   2   0]\n",
            " [  0   0   0   0   0   0   0   0   0   0   0   0   0 125 231 215 253 252 234 246 254 239 128 114  63   0   3   0]\n",
            " [  0   0   0   0   0   0   0   0   0   0   1   0   0 189 230 198 185 219 218 255 206 255 133  31   0   0   0   0]\n",
            " [  0   0   0   0   0   0   0   0   0   0   4   0   0 224 241 255 236 237 223 191 219 166   0   0   1   0   0   0]\n",
            " [  0   0   0   0   0   0   0   0   0   0   1   0  61 245 202 220 237 220 242 199 255 178   0   0   1   0   0   0]\n",
            " [  0   0   0   0   0   0   0   0   0   0   0   0 153 247 205 202 212 207 225 190 255  93 141   0   0   1   0   0]\n",
            " [  0   0   0   0   0   0   0   0   0   3   0   0 222 228 233 243 248 242 242 209 255   0  90 177   0   0   0   0]\n",
            " [  0   0   0   0   0   0   0   0   0   2   0  46 255 221 235 235 213 248 220 206 255 225  28 255   0   0   0   0]\n",
            " [  0   0   0   0   0   0   0   0   0   0   0 116 250 215 227 231 226 255 195 216 250 255 159 255 160   0   0   0]\n",
            " [  0   0   0   0   0   0   0   0   3   0   7 226 202 241 247 241 228 255 175 229 252 241 255 224 224  76   0   0]\n",
            " [  0   0   0   0   0   0   0   0   0   0 131 255 210 212 251 252 229 255 175 227 254 239 245 230 223 149  90   0]\n",
            " [  0   0   0   0   0   0   0   2   0   0 227 238 238 225 205 242 246 223 187 221 254 238 255 233 156   0   0   0]\n",
            " [  0   0   0   0   0   1   0   0   0  77 255 239 248 252 237 195 201 232 190 205 252 235 255 199   0   0   0   0]\n",
            " [  0   0   0   0   0   0   0   0   0 207 223 186 215 223 255 255 217 229 254 251 244 240 255 207   0   0   1   0]\n",
            " [  0   0   0   0   0   0   2   0  53 254 234 239 222 190 187 200 250 237 195 251 250 237 253 192   0   0   0   0]\n",
            " [  0   0   0   2   4   2   0   0 190 247 233 231 250 254 247 208 208 231 226 207 246 235 248 175   0   0   0   0]\n",
            " [  0   1   6   0   0   0   0 117 245 184 242 238 235 238 244 233 255 255  99 155 255 233 252 154   0   0   0   0]\n",
            " [  0   0   0   0   3  33 141 255 197 208 184 234 246 240 243 231 255  77   0 172 255 231 253 139   0   1   0   0]\n",
            " [  0   0  84 243 246 255 254 240 241 190 229 198 243 244 238 255  80   0   0 176 255 231 252 113   0   3   0   0]\n",
            " [  0  25 223 239 230 231 231 234 241 247 191 225 230 252 255 173   0   0   0 170 255 228 251  97   0   4   0   0]\n",
            " [  0 103 241 217 228 230 238 241 238 248 244 216 172 223 255   0   0   7   0 159 255 234 251  74   0   4   0   0]\n",
            " [  0   9 188 229 242 241 243 240 236 238 241 251 237 253  64   0   0   3   0 154 255 229 255  62   0   7   0   0]\n",
            " [  0   0   0  28 123 199 249 255 255 255 255 255 245  72   0   0   0   3   0 117 255 245 220  19   0   4   0   0]\n",
            " [  0   0   0   0   0   0   0  38  72  89  71  37   0   0   0   0   0   3   0   0  64  42  24   0   0   0   0   0]]\n"
          ]
        }
      ]
    },
    {
      "cell_type": "code",
      "source": [
        "plt.imshow(training_images[index])"
      ],
      "metadata": {
        "colab": {
          "base_uri": "https://localhost:8080/",
          "height": 448
        },
        "id": "onZo90-zUouV",
        "outputId": "8b70cb50-d8e8-4089-bfc4-437294b0eb8a"
      },
      "execution_count": 9,
      "outputs": [
        {
          "output_type": "execute_result",
          "data": {
            "text/plain": [
              "<matplotlib.image.AxesImage at 0x7fb60745cd90>"
            ]
          },
          "metadata": {},
          "execution_count": 9
        },
        {
          "output_type": "display_data",
          "data": {
            "text/plain": [
              "<Figure size 640x480 with 1 Axes>"
            ],
            "image/png": "[encoded data removed]"
          },
          "metadata": {}
        }
      ]
    },
    {
      "cell_type": "code",
      "source": [
        "len(training_images)"
      ],
      "metadata": {
        "colab": {
          "base_uri": "https://localhost:8080/"
        },
        "id": "dJ9SAr8bZDW5",
        "outputId": "c4232415-e125-4cf1-b57b-a4be912d2078"
      },
      "execution_count": 10,
      "outputs": [
        {
          "output_type": "execute_result",
          "data": {
            "text/plain": [
              "60000"
            ]
          },
          "metadata": {},
          "execution_count": 10
        }
      ]
    },
    {
      "cell_type": "code",
      "source": [
        "training_images=training_images/255.0\n",
        "testing_images=testing_images/255.0"
      ],
      "metadata": {
        "id": "EtfxjkBIUwfq"
      },
      "execution_count": 11,
      "outputs": []
    },
    {
      "cell_type": "code",
      "source": [
        "model=keras.models.Sequential([keras.layers.Flatten(),keras.layers.Dense(128,activation=tf.nn.relu),keras.layers.Dense(10,activation=tf.nn.softmax)])"
      ],
      "metadata": {
        "id": "Vv3GwWDhU_B2"
      },
      "execution_count": 12,
      "outputs": []
    },
    {
      "cell_type": "code",
      "source": [
        "model.compile(optimizer=tf.optimizers.Adam(),loss='sparse_categorical_crossentropy',metrics=['accuracy'])\n"
      ],
      "metadata": {
        "id": "oNkmsJLzV29N"
      },
      "execution_count": 13,
      "outputs": []
    },
    {
      "cell_type": "code",
      "source": [
        "len(training_images)"
      ],
      "metadata": {
        "colab": {
          "base_uri": "https://localhost:8080/"
        },
        "id": "mHAzfcOhXlIH",
        "outputId": "e4198602-cf35-4f2d-c0e6-e9a82db8d0a6"
      },
      "execution_count": 14,
      "outputs": [
        {
          "output_type": "execute_result",
          "data": {
            "text/plain": [
              "60000"
            ]
          },
          "metadata": {},
          "execution_count": 14
        }
      ]
    },
    {
      "cell_type": "code",
      "source": [
        "model.fit( training_images, training_label,epochs=25,callbacks=[callbacks])"
      ],
      "metadata": {
        "colab": {
          "base_uri": "https://localhost:8080/"
        },
        "id": "nlgAKSJGWwHN",
        "outputId": "2cbbab03-f1c3-44e2-a5b6-a60d7b61e8d0"
      },
      "execution_count": 15,
      "outputs": [
        {
          "output_type": "stream",
          "name": "stdout",
          "text": [
            "Epoch 1/25\n",
            "1875/1875 [==============================] - 5s 2ms/step - loss: 0.4987 - accuracy: 0.8251\n",
            "Epoch 2/25\n",
            "1853/1875 [============================>.] - ETA: 0s - loss: 0.3751 - accuracy: 0.8641\n",
            " loss is lower thn 0.4 so cancelling training!\n",
            "1875/1875 [==============================] - 4s 2ms/step - loss: 0.3749 - accuracy: 0.8645\n"
          ]
        },
        {
          "output_type": "execute_result",
          "data": {
            "text/plain": [
              "<keras.callbacks.History at 0x7fb6041b2b60>"
            ]
          },
          "metadata": {},
          "execution_count": 15
        }
      ]
    },
    {
      "cell_type": "code",
      "source": [
        "model.evaluate(testing_images,testing_label)"
      ],
      "metadata": {
        "colab": {
          "base_uri": "https://localhost:8080/"
        },
        "id": "Lqg4Og5iXe22",
        "outputId": "a9305249-babc-4e65-ca6d-b2113acb0f0d"
      },
      "execution_count": 16,
      "outputs": [
        {
          "output_type": "stream",
          "name": "stdout",
          "text": [
            "313/313 [==============================] - 1s 1ms/step - loss: 0.3770 - accuracy: 0.8646\n"
          ]
        },
        {
          "output_type": "execute_result",
          "data": {
            "text/plain": [
              "[0.3769508898258209, 0.8646000027656555]"
            ]
          },
          "metadata": {},
          "execution_count": 16
        }
      ]
    },
    {
      "cell_type": "code",
      "source": [],
      "metadata": {
        "id": "vp-o-bRTaLLR"
      },
      "execution_count": null,
      "outputs": []
    }
  ]
}